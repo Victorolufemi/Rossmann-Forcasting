{
 "cells": [
  {
   "cell_type": "code",
   "execution_count": 2,
   "id": "784583d7",
   "metadata": {},
   "outputs": [],
   "source": [
    "import pandas as pd\n",
    "import numpy as np\n",
    "import matplotlib.pyplot as plt\n",
    "import seaborn as sns\n",
    "from sklearn.preprocessing import LabelEncoder"
   ]
  },
  {
   "cell_type": "code",
   "execution_count": 26,
   "id": "91d18273",
   "metadata": {},
   "outputs": [],
   "source": [
    "def imports(data):\n",
    "    data_imported = pd.read_csv(data)\n",
    "    return data_imported"
   ]
  },
  {
   "cell_type": "code",
   "execution_count": 32,
   "id": "57472f99",
   "metadata": {},
   "outputs": [
    {
     "name": "stderr",
     "output_type": "stream",
     "text": [
      "C:\\Users\\Victor Olufemi\\AppData\\Local\\Temp\\ipykernel_9832\\1639793617.py:8: DtypeWarning: Columns (7) have mixed types. Specify dtype option on import or set low_memory=False.\n",
      "  data_imported = pd.read_csv(data)\n"
     ]
    }
   ],
   "source": [
    "train = imports(\"../data/train.csv\")\n",
    "test = imports(\"../data/test.csv\")\n",
    "store = imports(\"../data/store.csv\")"
   ]
  },
  {
   "cell_type": "code",
   "execution_count": 33,
   "id": "fc08e38b",
   "metadata": {},
   "outputs": [
    {
     "name": "stdout",
     "output_type": "stream",
     "text": [
      "<class 'pandas.core.frame.DataFrame'>\n",
      "RangeIndex: 1017209 entries, 0 to 1017208\n",
      "Data columns (total 9 columns):\n",
      " #   Column         Non-Null Count    Dtype \n",
      "---  ------         --------------    ----- \n",
      " 0   Store          1017209 non-null  int64 \n",
      " 1   DayOfWeek      1017209 non-null  int64 \n",
      " 2   Date           1017209 non-null  object\n",
      " 3   Sales          1017209 non-null  int64 \n",
      " 4   Customers      1017209 non-null  int64 \n",
      " 5   Open           1017209 non-null  int64 \n",
      " 6   Promo          1017209 non-null  int64 \n",
      " 7   StateHoliday   1017209 non-null  object\n",
      " 8   SchoolHoliday  1017209 non-null  int64 \n",
      "dtypes: int64(7), object(2)\n",
      "memory usage: 69.8+ MB\n"
     ]
    }
   ],
   "source": [
    "train.info()"
   ]
  },
  {
   "cell_type": "code",
   "execution_count": 36,
   "id": "8e20c068",
   "metadata": {},
   "outputs": [
    {
     "name": "stderr",
     "output_type": "stream",
     "text": [
      "C:\\Users\\Victor Olufemi\\AppData\\Local\\Temp\\ipykernel_9832\\1877852999.py:5: FutureWarning: Series.dt.weekofyear and Series.dt.week have been deprecated. Please use Series.dt.isocalendar().week instead.\n",
      "  train['WeekOfYear'] = train.Date.dt.weekofyear\n"
     ]
    },
    {
     "data": {
      "text/plain": [
       "count    844340.000000\n",
       "mean          9.493619\n",
       "std           2.197494\n",
       "min           0.000000\n",
       "25%           7.895563\n",
       "50%           9.250000\n",
       "75%          10.899729\n",
       "max          64.957854\n",
       "Name: SalePerCustomer, dtype: float64"
      ]
     },
     "execution_count": 36,
     "metadata": {},
     "output_type": "execute_result"
    }
   ],
   "source": [
    "train['Date'] = pd.to_datetime(train['Date'])\n",
    "train['Year'] = train.Date.dt.year\n",
    "train['Month'] = train.Date.dt.month\n",
    "train['Day'] = train.Date.dt.day\n",
    "train['WeekOfYear'] = train.Date.dt.weekofyear\n",
    "\n",
    "train['SalePerCustomer'] = train['Sales']/train['Customers']\n",
    "train['SalePerCustomer'].describe()"
   ]
  },
  {
   "cell_type": "code",
   "execution_count": 37,
   "id": "0a5e3524",
   "metadata": {},
   "outputs": [
    {
     "data": {
      "text/html": [
       "<div>\n",
       "<style scoped>\n",
       "    .dataframe tbody tr th:only-of-type {\n",
       "        vertical-align: middle;\n",
       "    }\n",
       "\n",
       "    .dataframe tbody tr th {\n",
       "        vertical-align: top;\n",
       "    }\n",
       "\n",
       "    .dataframe thead th {\n",
       "        text-align: right;\n",
       "    }\n",
       "</style>\n",
       "<table border=\"1\" class=\"dataframe\">\n",
       "  <thead>\n",
       "    <tr style=\"text-align: right;\">\n",
       "      <th></th>\n",
       "      <th>Store</th>\n",
       "      <th>DayOfWeek</th>\n",
       "      <th>Date</th>\n",
       "      <th>Sales</th>\n",
       "      <th>Customers</th>\n",
       "      <th>Open</th>\n",
       "      <th>Promo</th>\n",
       "      <th>StateHoliday</th>\n",
       "      <th>SchoolHoliday</th>\n",
       "      <th>Year</th>\n",
       "      <th>Month</th>\n",
       "      <th>Day</th>\n",
       "      <th>WeekOfYear</th>\n",
       "      <th>SalePerCustomer</th>\n",
       "    </tr>\n",
       "  </thead>\n",
       "  <tbody>\n",
       "    <tr>\n",
       "      <th>0</th>\n",
       "      <td>1</td>\n",
       "      <td>5</td>\n",
       "      <td>2015-07-31</td>\n",
       "      <td>5263</td>\n",
       "      <td>555</td>\n",
       "      <td>1</td>\n",
       "      <td>1</td>\n",
       "      <td>0</td>\n",
       "      <td>1</td>\n",
       "      <td>2015</td>\n",
       "      <td>7</td>\n",
       "      <td>31</td>\n",
       "      <td>31</td>\n",
       "      <td>9.482883</td>\n",
       "    </tr>\n",
       "    <tr>\n",
       "      <th>1</th>\n",
       "      <td>2</td>\n",
       "      <td>5</td>\n",
       "      <td>2015-07-31</td>\n",
       "      <td>6064</td>\n",
       "      <td>625</td>\n",
       "      <td>1</td>\n",
       "      <td>1</td>\n",
       "      <td>0</td>\n",
       "      <td>1</td>\n",
       "      <td>2015</td>\n",
       "      <td>7</td>\n",
       "      <td>31</td>\n",
       "      <td>31</td>\n",
       "      <td>9.702400</td>\n",
       "    </tr>\n",
       "    <tr>\n",
       "      <th>2</th>\n",
       "      <td>3</td>\n",
       "      <td>5</td>\n",
       "      <td>2015-07-31</td>\n",
       "      <td>8314</td>\n",
       "      <td>821</td>\n",
       "      <td>1</td>\n",
       "      <td>1</td>\n",
       "      <td>0</td>\n",
       "      <td>1</td>\n",
       "      <td>2015</td>\n",
       "      <td>7</td>\n",
       "      <td>31</td>\n",
       "      <td>31</td>\n",
       "      <td>10.126675</td>\n",
       "    </tr>\n",
       "    <tr>\n",
       "      <th>3</th>\n",
       "      <td>4</td>\n",
       "      <td>5</td>\n",
       "      <td>2015-07-31</td>\n",
       "      <td>13995</td>\n",
       "      <td>1498</td>\n",
       "      <td>1</td>\n",
       "      <td>1</td>\n",
       "      <td>0</td>\n",
       "      <td>1</td>\n",
       "      <td>2015</td>\n",
       "      <td>7</td>\n",
       "      <td>31</td>\n",
       "      <td>31</td>\n",
       "      <td>9.342457</td>\n",
       "    </tr>\n",
       "    <tr>\n",
       "      <th>4</th>\n",
       "      <td>5</td>\n",
       "      <td>5</td>\n",
       "      <td>2015-07-31</td>\n",
       "      <td>4822</td>\n",
       "      <td>559</td>\n",
       "      <td>1</td>\n",
       "      <td>1</td>\n",
       "      <td>0</td>\n",
       "      <td>1</td>\n",
       "      <td>2015</td>\n",
       "      <td>7</td>\n",
       "      <td>31</td>\n",
       "      <td>31</td>\n",
       "      <td>8.626118</td>\n",
       "    </tr>\n",
       "  </tbody>\n",
       "</table>\n",
       "</div>"
      ],
      "text/plain": [
       "   Store  DayOfWeek       Date  Sales  Customers  Open  Promo StateHoliday  \\\n",
       "0      1          5 2015-07-31   5263        555     1      1            0   \n",
       "1      2          5 2015-07-31   6064        625     1      1            0   \n",
       "2      3          5 2015-07-31   8314        821     1      1            0   \n",
       "3      4          5 2015-07-31  13995       1498     1      1            0   \n",
       "4      5          5 2015-07-31   4822        559     1      1            0   \n",
       "\n",
       "   SchoolHoliday  Year  Month  Day  WeekOfYear  SalePerCustomer  \n",
       "0              1  2015      7   31          31         9.482883  \n",
       "1              1  2015      7   31          31         9.702400  \n",
       "2              1  2015      7   31          31        10.126675  \n",
       "3              1  2015      7   31          31         9.342457  \n",
       "4              1  2015      7   31          31         8.626118  "
      ]
     },
     "execution_count": 37,
     "metadata": {},
     "output_type": "execute_result"
    }
   ],
   "source": [
    "train.head()"
   ]
  },
  {
   "cell_type": "code",
   "execution_count": 40,
   "id": "a648e25e",
   "metadata": {},
   "outputs": [],
   "source": [
    "train.name = 'Train'\n",
    "test.name = 'test'\n",
    "store.name = 'store'\n",
    "def data_shape(data):\n",
    "    print(data.name,'shape:',data.shape)\n",
    "\n",
    "# function to ckeck the size of a dataset\n",
    "def data_size(data):\n",
    "    print(data.name,'size:',data.size)\n",
    "\n",
    "# function to ckeck the information of a dataset\n",
    "def data_info(data):\n",
    "    print(data.name,'information:')\n",
    "    print('********')\n",
    "    print(data.info())\n",
    "    print('********')   \n",
    "    \n",
    "# function to get all unique values in the categorical variables\n",
    "def unique_val(data):\n",
    "    cols = data.columns\n",
    "    for i in cols:\n",
    "        if data[i].dtype == 'O':\n",
    "            print('Unique values in',i,'are',data[i].unique())\n",
    "            print('----------------------------------------------')\n",
    "\n",
    "# function to ckeck for missing values\n",
    "def missing_val(data):\n",
    "    print('Sum of missing values in', data.name)\n",
    "    print('------------------------------')\n",
    "    print(data.isnull().sum())\n",
    "    print('------------------------------')\n",
    "    \n",
    "\"\"\"\n",
    "VISUALIZATION\n",
    "\"\"\"\n",
    "def fig_size(x, y):\n",
    "    plt.figure(figsize=(x,y))\n",
    "    \n",
    "def get_value(figure):\n",
    "    for p in figure.patches:\n",
    "        figure.annotate(format(p.get_height()), (p.get_x() + p.get_width() / 2.,\n",
    "                            p.get_height()), ha = 'center', va = 'center', \n",
    "                            xytext = (0, 10), textcoords = 'offset points')\n",
    "        \n",
    "def fig_att(figure, title, title_x, title_y, size, size_xy, weight):\n",
    "    figure.set_title(title, size=size, weight=weight)\n",
    "    figure.set_xlabel(titlex, size=sizexy, weight=weight)\n",
    "    figure.set_ylabel(titley, size=sizexy, weight=weight)\n",
    "    \n",
    "def fig_att2(title, titlex, titley, size, sizexy, weight):\n",
    "    plt.title(title, size=size, weight=weight)\n",
    "    plt.xlabel(titlex, size=sizexy, weight=weight)\n",
    "    plt.ylabel(titley, size=sizexy, weight=weight)\n",
    "\n",
    "def rotate(figure, rotation):\n",
    "    for item in figure.get_xticklabels():\n",
    "        item.set_rotation(rotation)"
   ]
  },
  {
   "cell_type": "markdown",
   "id": "bb5aaaf6",
   "metadata": {},
   "source": [
    "Checking for Shape"
   ]
  },
  {
   "cell_type": "code",
   "execution_count": 41,
   "id": "bd30183e",
   "metadata": {
    "scrolled": true
   },
   "outputs": [
    {
     "name": "stdout",
     "output_type": "stream",
     "text": [
      "Train shape: (1017209, 14)\n",
      "Train size: 14240926\n",
      "*****\n",
      "test shape: (41088, 8)\n",
      "test size: 328704\n",
      "*****\n",
      "store shape: (1115, 10)\n",
      "store size: 11150\n",
      "*****\n"
     ]
    }
   ],
   "source": [
    "for data in [train,test,store]:\n",
    "    data_shape(data)\n",
    "    data_size(data)\n",
    "    print('*****')"
   ]
  },
  {
   "cell_type": "code",
   "execution_count": 42,
   "id": "73edfa58",
   "metadata": {},
   "outputs": [
    {
     "data": {
      "text/plain": [
       "array(['0', 'a', 'b', 'c', 0], dtype=object)"
      ]
     },
     "execution_count": 42,
     "metadata": {},
     "output_type": "execute_result"
    }
   ],
   "source": [
    "train.StateHoliday.unique()"
   ]
  },
  {
   "cell_type": "code",
   "execution_count": 43,
   "id": "6962c823",
   "metadata": {},
   "outputs": [
    {
     "data": {
      "text/plain": [
       "array(['0', 'a'], dtype=object)"
      ]
     },
     "execution_count": 43,
     "metadata": {},
     "output_type": "execute_result"
    }
   ],
   "source": [
    "test.StateHoliday.unique()"
   ]
  },
  {
   "cell_type": "code",
   "execution_count": 45,
   "id": "0c8abb9b",
   "metadata": {},
   "outputs": [],
   "source": [
    "train['StateHoliday'].replace({'0':'o',0:'o'}, inplace=True)\n",
    "test['StateHoliday'].replace({'0':'o'}, inplace=True)"
   ]
  },
  {
   "cell_type": "code",
   "execution_count": 46,
   "id": "f058778c",
   "metadata": {},
   "outputs": [
    {
     "name": "stdout",
     "output_type": "stream",
     "text": [
      "Sum of missing values in Train\n",
      "------------------------------\n",
      "Store                   0\n",
      "DayOfWeek               0\n",
      "Date                    0\n",
      "Sales                   0\n",
      "Customers               0\n",
      "Open                    0\n",
      "Promo                   0\n",
      "StateHoliday            0\n",
      "SchoolHoliday           0\n",
      "Year                    0\n",
      "Month                   0\n",
      "Day                     0\n",
      "WeekOfYear              0\n",
      "SalePerCustomer    172869\n",
      "dtype: int64\n",
      "------------------------------\n",
      "Sum of missing values in test\n",
      "------------------------------\n",
      "Id                0\n",
      "Store             0\n",
      "DayOfWeek         0\n",
      "Date              0\n",
      "Open             11\n",
      "Promo             0\n",
      "StateHoliday      0\n",
      "SchoolHoliday     0\n",
      "dtype: int64\n",
      "------------------------------\n",
      "Sum of missing values in store\n",
      "------------------------------\n",
      "Store                          0\n",
      "StoreType                      0\n",
      "Assortment                     0\n",
      "CompetitionDistance            3\n",
      "CompetitionOpenSinceMonth    354\n",
      "CompetitionOpenSinceYear     354\n",
      "Promo2                         0\n",
      "Promo2SinceWeek              544\n",
      "Promo2SinceYear              544\n",
      "PromoInterval                544\n",
      "dtype: int64\n",
      "------------------------------\n"
     ]
    }
   ],
   "source": [
    "for i in [train,test,store]:\n",
    "    missing_val(i)"
   ]
  },
  {
   "cell_type": "code",
   "execution_count": 47,
   "id": "965d6a3d",
   "metadata": {},
   "outputs": [
    {
     "data": {
      "text/html": [
       "<div>\n",
       "<style scoped>\n",
       "    .dataframe tbody tr th:only-of-type {\n",
       "        vertical-align: middle;\n",
       "    }\n",
       "\n",
       "    .dataframe tbody tr th {\n",
       "        vertical-align: top;\n",
       "    }\n",
       "\n",
       "    .dataframe thead th {\n",
       "        text-align: right;\n",
       "    }\n",
       "</style>\n",
       "<table border=\"1\" class=\"dataframe\">\n",
       "  <thead>\n",
       "    <tr style=\"text-align: right;\">\n",
       "      <th></th>\n",
       "      <th>Store</th>\n",
       "      <th>StoreType</th>\n",
       "      <th>Assortment</th>\n",
       "      <th>CompetitionDistance</th>\n",
       "      <th>CompetitionOpenSinceMonth</th>\n",
       "      <th>CompetitionOpenSinceYear</th>\n",
       "      <th>Promo2</th>\n",
       "      <th>Promo2SinceWeek</th>\n",
       "      <th>Promo2SinceYear</th>\n",
       "      <th>PromoInterval</th>\n",
       "    </tr>\n",
       "  </thead>\n",
       "  <tbody>\n",
       "    <tr>\n",
       "      <th>0</th>\n",
       "      <td>1</td>\n",
       "      <td>c</td>\n",
       "      <td>a</td>\n",
       "      <td>1270.0</td>\n",
       "      <td>9.0</td>\n",
       "      <td>2008.0</td>\n",
       "      <td>0</td>\n",
       "      <td>14.0</td>\n",
       "      <td>2011.0</td>\n",
       "      <td>Jan,Apr,Jul,Oct</td>\n",
       "    </tr>\n",
       "    <tr>\n",
       "      <th>1</th>\n",
       "      <td>2</td>\n",
       "      <td>a</td>\n",
       "      <td>a</td>\n",
       "      <td>570.0</td>\n",
       "      <td>11.0</td>\n",
       "      <td>2007.0</td>\n",
       "      <td>1</td>\n",
       "      <td>13.0</td>\n",
       "      <td>2010.0</td>\n",
       "      <td>Jan,Apr,Jul,Oct</td>\n",
       "    </tr>\n",
       "    <tr>\n",
       "      <th>2</th>\n",
       "      <td>3</td>\n",
       "      <td>a</td>\n",
       "      <td>a</td>\n",
       "      <td>14130.0</td>\n",
       "      <td>12.0</td>\n",
       "      <td>2006.0</td>\n",
       "      <td>1</td>\n",
       "      <td>14.0</td>\n",
       "      <td>2011.0</td>\n",
       "      <td>Jan,Apr,Jul,Oct</td>\n",
       "    </tr>\n",
       "    <tr>\n",
       "      <th>3</th>\n",
       "      <td>4</td>\n",
       "      <td>c</td>\n",
       "      <td>c</td>\n",
       "      <td>620.0</td>\n",
       "      <td>9.0</td>\n",
       "      <td>2009.0</td>\n",
       "      <td>0</td>\n",
       "      <td>14.0</td>\n",
       "      <td>2011.0</td>\n",
       "      <td>Jan,Apr,Jul,Oct</td>\n",
       "    </tr>\n",
       "    <tr>\n",
       "      <th>4</th>\n",
       "      <td>5</td>\n",
       "      <td>a</td>\n",
       "      <td>a</td>\n",
       "      <td>29910.0</td>\n",
       "      <td>4.0</td>\n",
       "      <td>2015.0</td>\n",
       "      <td>0</td>\n",
       "      <td>14.0</td>\n",
       "      <td>2011.0</td>\n",
       "      <td>Jan,Apr,Jul,Oct</td>\n",
       "    </tr>\n",
       "  </tbody>\n",
       "</table>\n",
       "</div>"
      ],
      "text/plain": [
       "   Store StoreType Assortment  CompetitionDistance  CompetitionOpenSinceMonth  \\\n",
       "0      1         c          a               1270.0                        9.0   \n",
       "1      2         a          a                570.0                       11.0   \n",
       "2      3         a          a              14130.0                       12.0   \n",
       "3      4         c          c                620.0                        9.0   \n",
       "4      5         a          a              29910.0                        4.0   \n",
       "\n",
       "   CompetitionOpenSinceYear  Promo2  Promo2SinceWeek  Promo2SinceYear  \\\n",
       "0                    2008.0       0             14.0           2011.0   \n",
       "1                    2007.0       1             13.0           2010.0   \n",
       "2                    2006.0       1             14.0           2011.0   \n",
       "3                    2009.0       0             14.0           2011.0   \n",
       "4                    2015.0       0             14.0           2011.0   \n",
       "\n",
       "     PromoInterval  \n",
       "0  Jan,Apr,Jul,Oct  \n",
       "1  Jan,Apr,Jul,Oct  \n",
       "2  Jan,Apr,Jul,Oct  \n",
       "3  Jan,Apr,Jul,Oct  \n",
       "4  Jan,Apr,Jul,Oct  "
      ]
     },
     "execution_count": 47,
     "metadata": {},
     "output_type": "execute_result"
    }
   ],
   "source": [
    "#handling missing values\n",
    "missing_cols = ['CompetitionOpenSinceMonth', 'CompetitionOpenSinceYear', 'Promo2SinceWeek', 'Promo2SinceYear', 'PromoInterval']\n",
    "\n",
    "for cols in missing_cols:\n",
    "    store[cols].fillna(store[cols].mode()[0], inplace=True)\n",
    "    \n",
    "store['CompetitionDistance'].fillna(store['CompetitionDistance'].median(), inplace=True)\n",
    "\n",
    "store.head()"
   ]
  },
  {
   "cell_type": "markdown",
   "id": "8b498ab7",
   "metadata": {},
   "source": [
    "Are the promotions distributed similarly between these two groups?"
   ]
  },
  {
   "cell_type": "code",
   "execution_count": 52,
   "id": "8f94d245",
   "metadata": {},
   "outputs": [
    {
     "data": {
      "text/plain": [
       "0    629129\n",
       "1    388080\n",
       "Name: Promo, dtype: int64"
      ]
     },
     "execution_count": 52,
     "metadata": {},
     "output_type": "execute_result"
    }
   ],
   "source": [
    "train.Promo.value_counts()"
   ]
  },
  {
   "cell_type": "code",
   "execution_count": 53,
   "id": "0df4e596",
   "metadata": {},
   "outputs": [
    {
     "data": {
      "text/plain": [
       "0    24824\n",
       "1    16264\n",
       "Name: Promo, dtype: int64"
      ]
     },
     "execution_count": 53,
     "metadata": {},
     "output_type": "execute_result"
    }
   ],
   "source": [
    "test.Promo.value_counts()"
   ]
  },
  {
   "cell_type": "markdown",
   "id": "0f157c58",
   "metadata": {},
   "source": []
  },
  {
   "cell_type": "code",
   "execution_count": 50,
   "id": "3af357b6",
   "metadata": {},
   "outputs": [],
   "source": [
    "#Merging train and store data for better exploration\n",
    "train_store = pd.merge(train, store, on='Store')\n",
    "train_store.name = 'Combined'"
   ]
  },
  {
   "cell_type": "code",
   "execution_count": null,
   "id": "c230d0e1",
   "metadata": {},
   "outputs": [],
   "source": []
  }
 ],
 "metadata": {
  "kernelspec": {
   "display_name": "Python 3 (ipykernel)",
   "language": "python",
   "name": "python3"
  },
  "language_info": {
   "codemirror_mode": {
    "name": "ipython",
    "version": 3
   },
   "file_extension": ".py",
   "mimetype": "text/x-python",
   "name": "python",
   "nbconvert_exporter": "python",
   "pygments_lexer": "ipython3",
   "version": "3.10.4"
  }
 },
 "nbformat": 4,
 "nbformat_minor": 5
}
